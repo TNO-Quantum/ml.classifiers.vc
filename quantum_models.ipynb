{
 "cells": [
  {
   "cell_type": "markdown",
   "id": "082d711e",
   "metadata": {},
   "source": [
    "# Quantum Models\n",
    "\n",
    "In this notebook we showcase three different quantum models for a Variational Quantum classifier. \n",
    "\n",
    "A quantum model defines a quantum circuit and a strategy for classical post-processing of measurements. Currently, three models are available:\n",
    "\n",
    "- The `\"expected_values_model\"`, as implemented by the `ExpectedValuesModel` class (see `get_qfunc()` for details on the post-processing strategy).\n",
    "\n",
    "- The `\"probabilities_model\"`, as implemented by the `ProbabilitiesModel` class (see `get_qfunc()` for details on the post-processing strategy).\n",
    "\n",
    "- The `\"parity_model\"`, as implemented by the `ParityModel` class (see `get_class_from_bit_array()` for details on the post-processing strategy)."
   ]
  },
  {
   "cell_type": "markdown",
   "id": "9ced991f",
   "metadata": {},
   "source": [
    "The following example demonstrates how the `VariationalClassifier` class can be used for classification based on the [Wine dataset](https://scikit-learn.org/stable/datasets/toy_dataset.html#wine-datasetl).\n",
    "\n",
    "In short, the dataset consists of \n",
    "- Number of instances: 178,\n",
    "- Number of Attributes: 13,\n",
    "- Number of classes: 3.\n",
    "\n",
    "We will only use eight features."
   ]
  },
  {
   "cell_type": "code",
   "execution_count": 1,
   "id": "37cdba2d",
   "metadata": {},
   "outputs": [],
   "source": [
    "import warnings\n",
    "from typing import Any, List, Tuple\n",
    "\n",
    "import matplotlib.pyplot as plt\n",
    "import numpy as np\n",
    "from numpy.typing import NDArray\n",
    "from sklearn.preprocessing import StandardScaler\n",
    "\n",
    "from tno.quantum.ml.classifiers.vc import VariationalClassifier\n",
    "from tno.quantum.ml.datasets import get_wine_dataset\n",
    "\n",
    "warnings.filterwarnings('ignore')\n",
    "\n",
    "def _std_scale(X_training: NDArray[np.float_], X_validation: NDArray[np.float_]):\n",
    "    std_scale = StandardScaler().fit(X_training)\n",
    "    return std_scale.transform(X_training), std_scale.transform(X_validation)"
   ]
  },
  {
   "cell_type": "code",
   "execution_count": 2,
   "id": "562d3c0a",
   "metadata": {},
   "outputs": [],
   "source": [
    "# Load Wine dataset:\n",
    "X_training, y_training, X_validation, y_validation = get_wine_dataset(\n",
    "    n_features=8, n_classes=3, random_seed=0\n",
    ")\n",
    "\n",
    "# Preprocess data\n",
    "X_training, X_validation = _std_scale(X_training, X_validation)\n",
    "X_training = X_training / np.linalg.norm(X_training, ord=2, axis=-1)[:, None]\n",
    "X_validation = X_validation / np.linalg.norm(X_validation, ord=2, axis=-1)[:, None]"
   ]
  },
  {
   "cell_type": "code",
   "execution_count": 3,
   "id": "a6992e2e",
   "metadata": {},
   "outputs": [
    {
     "name": "stderr",
     "output_type": "stream",
     "text": [
      "Training iteration: 100%|██████████████████████████████████████████████████████████████████████████████████████████████████████| 50/50 [00:40<00:00,  1.24it/s]\n"
     ]
    },
    {
     "data": {
      "text/plain": [
       "array([0., 1., 2., 0., 0., 0., 0., 1., 1., 2., 2., 2., 0., 2., 1., 1., 0.,\n",
       "       0., 2., 0., 1., 2., 0., 1., 2., 1., 1., 1., 2., 2., 2., 0., 1., 0.,\n",
       "       2., 0., 2., 2., 1., 2., 0., 0., 1., 1., 1.])"
      ]
     },
     "execution_count": 3,
     "metadata": {},
     "output_type": "execute_result"
    }
   ],
   "source": [
    "model_name = \"probabilities_model\"\n",
    "\n",
    "vc = VariationalClassifier(\n",
    "    batch_size=10,\n",
    "    model={\n",
    "        \"name\": model_name,\n",
    "        \"options\": {\"n_layers\": 2, \"n_trainable_sublayers\": 2, \"scaling\": 0.3},\n",
    "    },\n",
    "    optimizer={\"name\": \"adam\", \"options\": {}},\n",
    "    random_state=0,\n",
    "    )\n",
    "vc = vc.fit(X_training, y_training, n_iter = 50)\n",
    "predictions_validation = vc.predict(X_validation)\n",
    "predictions_validation"
   ]
  },
  {
   "cell_type": "markdown",
   "id": "078c675a",
   "metadata": {},
   "source": [
    "# Post-processing strategies\n",
    "\n",
    "Let $M=2^m$ be the total number of classes. We define the following three post-processing strategies\n",
    "\n",
    "- **Probabilities model**: Measure the first $m$ qubits. The decimal representation of the measured qubits represent the class. All other qubits are ignored\n",
    "\n",
    "- **Expected values model**: The expected value of $M$ qubits are measured. The class is given by the one-hot-encoding of the qubit that is most likely the $1$ state. \n",
    "\n",
    "- **Parity model**: \n",
    "    [This paper](https://arxiv.org/abs/2212.06663) (by Nico Meyer et al.) presents a way to optimize post-processing step. The authors propose a post-processing function $f(\\cdot)$ that assigns an integer (corresponding to a class) to a $n$-bit string $b$ as follows:\n",
    "    $$\n",
    "    \\begin{align*}\n",
    "    f(b) = \\left[b_0 ... b_{m-2}\\left(\\bigoplus_{i=m-1}^{n-1} b_i\\right) \\right]_{10}\n",
    "    \\end{align*}\n",
    "    $$\n",
    "\n",
    "\n",
    "The following image shows resulting post processing strategy for different bit strings\n",
    "\n",
    "![Post-processing strategy example](images/post_processing_strategy_example.png \"Post-processing strategy example\")"
   ]
  },
  {
   "cell_type": "markdown",
   "id": "b5e41f2d",
   "metadata": {},
   "source": [
    "## Accuracy score\n",
    "An accuracy score can be calculated by comparing classifier predictions with the true labels. This can be done for training dataset and validation dataset for the different post-processing strategies.\n",
    "\n",
    "![Accuracy Score](images/accuracy_score.png \"Accuracy Score\")\n",
    "Accuracy score averaged over 9 different runs.\n"
   ]
  },
  {
   "cell_type": "code",
   "execution_count": 4,
   "id": "95b0c4f0",
   "metadata": {},
   "outputs": [],
   "source": [
    "def _accuracy(labels: NDArray[Any], predictions: NDArray[Any]) -> np.float_:\n",
    "    return np.sum(np.isclose(labels, predictions)) / labels.size"
   ]
  },
  {
   "cell_type": "code",
   "execution_count": 5,
   "id": "ee20f743",
   "metadata": {},
   "outputs": [],
   "source": [
    "def calculate_accuracy_for_model(\n",
    "    model_name: str,\n",
    "    max_iter: int = 150,\n",
    "    random_state: int = 0,\n",
    ") -> Tuple[NDArray[np.float_], NDArray[np.float_]]:\n",
    "    \"\"\"\n",
    "    Create VariationalClassifier and calculate accuracy score for every 5 iterations.\n",
    "\n",
    "    Args:\n",
    "        model_name: Name of the model\n",
    "        max_iter: Total number of iterations\n",
    "        random_state: Random seed for repeatability\n",
    "\n",
    "    Returns:\n",
    "        Accuracy on training and validation dataset\n",
    "    \"\"\"\n",
    "    vc = VariationalClassifier(\n",
    "        batch_size=10,\n",
    "        model={\n",
    "            \"name\": model_name,\n",
    "            \"options\": {\"n_layers\": 2, \"n_trainable_sublayers\": 2, \"scaling\": 0.3},\n",
    "        },\n",
    "        optimizer={\"name\": \"adam\", \"options\": {}},\n",
    "        warm_init=True,\n",
    "        random_state=random_state,\n",
    "    )\n",
    "\n",
    "    # Fit and re-fit by making use of the parameters fitted in the previous iteration\n",
    "    n_iterations = [5 for _ in range(0, max_iter, 5)]\n",
    "    acc_validations, acc_trainings = [], []\n",
    "    for n_iter in n_iterations:\n",
    "        vc = vc.fit(X_training, y_training, n_iter=n_iter)\n",
    "\n",
    "        # Predict\n",
    "        predictions_training = vc.predict(X_training)\n",
    "        predictions_validation = vc.predict(X_validation)\n",
    "\n",
    "        # Compute accuracy\n",
    "        acc_training = _accuracy(y_training, predictions_training)\n",
    "        acc_validation = _accuracy(y_validation, predictions_validation)\n",
    "\n",
    "        acc_trainings.append(acc_training)\n",
    "        acc_validations.append(acc_validation)\n",
    "    return np.array(acc_trainings), np.array(acc_validations)"
   ]
  },
  {
   "cell_type": "code",
   "execution_count": 6,
   "id": "d09c6b0b",
   "metadata": {},
   "outputs": [],
   "source": [
    "def plot_accuracy(\n",
    "    model_names: List[str],\n",
    "    acc_trainings: List[NDArray[np.float_]],\n",
    "    acc_validations: List[NDArray[np.float_]],\n",
    ") -> None:\n",
    "    \"\"\"Plot accuracy score for training dataset and validation dataset\n",
    "\n",
    "    Args:\n",
    "        model_name: list of model names\n",
    "        acc_trainings: list of training dataset accuracy scores\n",
    "        acc_validations: list of validation dataset accuracy scores\n",
    "    \"\"\"\n",
    "    fig, (ax1, ax2) = plt.subplots(1, 2, figsize=(10, 5))\n",
    "\n",
    "    for model_name, acc_training, acc_validation in zip(\n",
    "        model_names, acc_trainings, acc_validations\n",
    "    ):\n",
    "        x = list(range(0, 5 * len(acc_training), 5))\n",
    "\n",
    "        ax1.plot(\n",
    "            x,\n",
    "            acc_training,\n",
    "            label=model_name,\n",
    "        )\n",
    "\n",
    "        ax2.plot(\n",
    "            x,\n",
    "            acc_validation,\n",
    "            label=model_name,\n",
    "        )\n",
    "\n",
    "    ax1.set_title(\"Validation dataset\")\n",
    "    ax2.set_title(\"Training dataset\")\n",
    "    for ax in [ax1, ax2]:\n",
    "        ax.set_xlabel(\"Iteration number\")\n",
    "        ax.set_ylabel(\"Accuracy\")\n",
    "        ax.set_ylim([0, 1])\n",
    "        ax.legend()\n",
    "\n",
    "    plt.show()"
   ]
  },
  {
   "cell_type": "code",
   "execution_count": 7,
   "id": "6375ef6d",
   "metadata": {
    "scrolled": true
   },
   "outputs": [
    {
     "name": "stderr",
     "output_type": "stream",
     "text": [
      "Training iteration: 100%|████████████████████████████████████████████████████████████████████████████████████████████████████████| 5/5 [00:07<00:00,  1.41s/it]\n",
      "Training iteration: 100%|████████████████████████████████████████████████████████████████████████████████████████████████████████| 5/5 [00:04<00:00,  1.24it/s]\n",
      "Training iteration: 100%|████████████████████████████████████████████████████████████████████████████████████████████████████████| 5/5 [00:03<00:00,  1.34it/s]\n",
      "Training iteration: 100%|████████████████████████████████████████████████████████████████████████████████████████████████████████| 5/5 [00:03<00:00,  1.27it/s]\n",
      "Training iteration: 100%|████████████████████████████████████████████████████████████████████████████████████████████████████████| 5/5 [00:04<00:00,  1.09it/s]\n",
      "Training iteration: 100%|████████████████████████████████████████████████████████████████████████████████████████████████████████| 5/5 [00:04<00:00,  1.06it/s]\n",
      "Training iteration: 100%|████████████████████████████████████████████████████████████████████████████████████████████████████████| 5/5 [00:04<00:00,  1.22it/s]\n",
      "Training iteration: 100%|████████████████████████████████████████████████████████████████████████████████████████████████████████| 5/5 [00:04<00:00,  1.24it/s]\n",
      "Training iteration: 100%|████████████████████████████████████████████████████████████████████████████████████████████████████████| 5/5 [00:03<00:00,  1.32it/s]\n",
      "Training iteration: 100%|████████████████████████████████████████████████████████████████████████████████████████████████████████| 5/5 [00:04<00:00,  1.19it/s]\n",
      "Training iteration: 100%|████████████████████████████████████████████████████████████████████████████████████████████████████████| 5/5 [00:04<00:00,  1.22it/s]\n",
      "Training iteration: 100%|████████████████████████████████████████████████████████████████████████████████████████████████████████| 5/5 [00:03<00:00,  1.26it/s]\n",
      "Training iteration: 100%|████████████████████████████████████████████████████████████████████████████████████████████████████████| 5/5 [00:04<00:00,  1.19it/s]\n",
      "Training iteration: 100%|████████████████████████████████████████████████████████████████████████████████████████████████████████| 5/5 [00:04<00:00,  1.15it/s]\n",
      "Training iteration: 100%|████████████████████████████████████████████████████████████████████████████████████████████████████████| 5/5 [00:04<00:00,  1.25it/s]\n",
      "Training iteration: 100%|████████████████████████████████████████████████████████████████████████████████████████████████████████| 5/5 [00:03<00:00,  1.32it/s]\n",
      "Training iteration: 100%|████████████████████████████████████████████████████████████████████████████████████████████████████████| 5/5 [00:03<00:00,  1.29it/s]\n",
      "Training iteration: 100%|████████████████████████████████████████████████████████████████████████████████████████████████████████| 5/5 [00:03<00:00,  1.29it/s]\n",
      "Training iteration: 100%|████████████████████████████████████████████████████████████████████████████████████████████████████████| 5/5 [00:04<00:00,  1.23it/s]\n",
      "Training iteration: 100%|████████████████████████████████████████████████████████████████████████████████████████████████████████| 5/5 [00:04<00:00,  1.23it/s]\n",
      "Training iteration: 100%|████████████████████████████████████████████████████████████████████████████████████████████████████████| 5/5 [00:03<00:00,  1.34it/s]\n",
      "Training iteration: 100%|████████████████████████████████████████████████████████████████████████████████████████████████████████| 5/5 [00:03<00:00,  1.35it/s]\n",
      "Training iteration: 100%|████████████████████████████████████████████████████████████████████████████████████████████████████████| 5/5 [00:03<00:00,  1.29it/s]\n",
      "Training iteration: 100%|████████████████████████████████████████████████████████████████████████████████████████████████████████| 5/5 [00:04<00:00,  1.24it/s]\n",
      "Training iteration: 100%|████████████████████████████████████████████████████████████████████████████████████████████████████████| 5/5 [00:03<00:00,  1.35it/s]\n",
      "Training iteration: 100%|████████████████████████████████████████████████████████████████████████████████████████████████████████| 5/5 [00:03<00:00,  1.34it/s]\n",
      "Training iteration: 100%|████████████████████████████████████████████████████████████████████████████████████████████████████████| 5/5 [00:04<00:00,  1.13it/s]\n",
      "Training iteration: 100%|████████████████████████████████████████████████████████████████████████████████████████████████████████| 5/5 [00:03<00:00,  1.33it/s]\n",
      "Training iteration: 100%|████████████████████████████████████████████████████████████████████████████████████████████████████████| 5/5 [00:04<00:00,  1.22it/s]\n",
      "Training iteration: 100%|████████████████████████████████████████████████████████████████████████████████████████████████████████| 5/5 [00:04<00:00,  1.18it/s]\n"
     ]
    }
   ],
   "source": [
    "exp_val_model_train, exp_val_model_validation = calculate_accuracy_for_model(\n",
    "    \"expected_values_model\", max_iter=150\n",
    ")"
   ]
  },
  {
   "cell_type": "code",
   "execution_count": 8,
   "id": "3e786963",
   "metadata": {
    "scrolled": true
   },
   "outputs": [
    {
     "name": "stderr",
     "output_type": "stream",
     "text": [
      "Training iteration: 100%|████████████████████████████████████████████████████████████████████████████████████████████████████████| 5/5 [00:03<00:00,  1.30it/s]\n",
      "Training iteration: 100%|████████████████████████████████████████████████████████████████████████████████████████████████████████| 5/5 [00:04<00:00,  1.24it/s]\n",
      "Training iteration: 100%|████████████████████████████████████████████████████████████████████████████████████████████████████████| 5/5 [00:04<00:00,  1.10it/s]\n",
      "Training iteration: 100%|████████████████████████████████████████████████████████████████████████████████████████████████████████| 5/5 [00:04<00:00,  1.22it/s]\n",
      "Training iteration: 100%|████████████████████████████████████████████████████████████████████████████████████████████████████████| 5/5 [00:04<00:00,  1.16it/s]\n",
      "Training iteration: 100%|████████████████████████████████████████████████████████████████████████████████████████████████████████| 5/5 [00:03<00:00,  1.28it/s]\n",
      "Training iteration: 100%|████████████████████████████████████████████████████████████████████████████████████████████████████████| 5/5 [00:04<00:00,  1.18it/s]\n",
      "Training iteration: 100%|████████████████████████████████████████████████████████████████████████████████████████████████████████| 5/5 [00:03<00:00,  1.26it/s]\n",
      "Training iteration: 100%|████████████████████████████████████████████████████████████████████████████████████████████████████████| 5/5 [00:03<00:00,  1.26it/s]\n",
      "Training iteration: 100%|████████████████████████████████████████████████████████████████████████████████████████████████████████| 5/5 [00:03<00:00,  1.26it/s]\n",
      "Training iteration: 100%|████████████████████████████████████████████████████████████████████████████████████████████████████████| 5/5 [00:04<00:00,  1.23it/s]\n",
      "Training iteration: 100%|████████████████████████████████████████████████████████████████████████████████████████████████████████| 5/5 [00:03<00:00,  1.29it/s]\n",
      "Training iteration: 100%|████████████████████████████████████████████████████████████████████████████████████████████████████████| 5/5 [00:03<00:00,  1.33it/s]\n",
      "Training iteration: 100%|████████████████████████████████████████████████████████████████████████████████████████████████████████| 5/5 [00:03<00:00,  1.29it/s]\n",
      "Training iteration: 100%|████████████████████████████████████████████████████████████████████████████████████████████████████████| 5/5 [00:03<00:00,  1.28it/s]\n",
      "Training iteration: 100%|████████████████████████████████████████████████████████████████████████████████████████████████████████| 5/5 [00:03<00:00,  1.27it/s]\n",
      "Training iteration: 100%|████████████████████████████████████████████████████████████████████████████████████████████████████████| 5/5 [00:03<00:00,  1.28it/s]\n",
      "Training iteration: 100%|████████████████████████████████████████████████████████████████████████████████████████████████████████| 5/5 [00:03<00:00,  1.29it/s]\n",
      "Training iteration: 100%|████████████████████████████████████████████████████████████████████████████████████████████████████████| 5/5 [00:04<00:00,  1.21it/s]\n",
      "Training iteration: 100%|████████████████████████████████████████████████████████████████████████████████████████████████████████| 5/5 [00:03<00:00,  1.25it/s]\n",
      "Training iteration: 100%|████████████████████████████████████████████████████████████████████████████████████████████████████████| 5/5 [00:03<00:00,  1.28it/s]\n",
      "Training iteration: 100%|████████████████████████████████████████████████████████████████████████████████████████████████████████| 5/5 [00:03<00:00,  1.29it/s]\n",
      "Training iteration: 100%|████████████████████████████████████████████████████████████████████████████████████████████████████████| 5/5 [00:03<00:00,  1.33it/s]\n",
      "Training iteration: 100%|████████████████████████████████████████████████████████████████████████████████████████████████████████| 5/5 [00:03<00:00,  1.27it/s]\n",
      "Training iteration: 100%|████████████████████████████████████████████████████████████████████████████████████████████████████████| 5/5 [00:04<00:00,  1.19it/s]\n",
      "Training iteration: 100%|████████████████████████████████████████████████████████████████████████████████████████████████████████| 5/5 [00:03<00:00,  1.26it/s]\n",
      "Training iteration: 100%|████████████████████████████████████████████████████████████████████████████████████████████████████████| 5/5 [00:04<00:00,  1.25it/s]\n",
      "Training iteration: 100%|████████████████████████████████████████████████████████████████████████████████████████████████████████| 5/5 [00:03<00:00,  1.26it/s]\n",
      "Training iteration: 100%|████████████████████████████████████████████████████████████████████████████████████████████████████████| 5/5 [00:04<00:00,  1.19it/s]\n",
      "Training iteration: 100%|████████████████████████████████████████████████████████████████████████████████████████████████████████| 5/5 [00:03<00:00,  1.27it/s]\n"
     ]
    }
   ],
   "source": [
    "prob_model_train, prob_model_validation = calculate_accuracy_for_model(\n",
    "    \"probabilities_model\", max_iter=150\n",
    ")"
   ]
  },
  {
   "cell_type": "code",
   "execution_count": 9,
   "id": "0e9608a1",
   "metadata": {
    "scrolled": true
   },
   "outputs": [
    {
     "name": "stderr",
     "output_type": "stream",
     "text": [
      "Training iteration: 100%|████████████████████████████████████████████████████████████████████████████████████████████████████████| 5/5 [00:04<00:00,  1.15it/s]\n",
      "Training iteration: 100%|████████████████████████████████████████████████████████████████████████████████████████████████████████| 5/5 [00:04<00:00,  1.13it/s]\n",
      "Training iteration: 100%|████████████████████████████████████████████████████████████████████████████████████████████████████████| 5/5 [00:04<00:00,  1.10it/s]\n",
      "Training iteration: 100%|████████████████████████████████████████████████████████████████████████████████████████████████████████| 5/5 [00:04<00:00,  1.10it/s]\n",
      "Training iteration: 100%|████████████████████████████████████████████████████████████████████████████████████████████████████████| 5/5 [00:04<00:00,  1.13it/s]\n",
      "Training iteration: 100%|████████████████████████████████████████████████████████████████████████████████████████████████████████| 5/5 [00:04<00:00,  1.10it/s]\n",
      "Training iteration: 100%|████████████████████████████████████████████████████████████████████████████████████████████████████████| 5/5 [00:05<00:00,  1.07s/it]\n",
      "Training iteration: 100%|████████████████████████████████████████████████████████████████████████████████████████████████████████| 5/5 [00:04<00:00,  1.13it/s]\n",
      "Training iteration: 100%|████████████████████████████████████████████████████████████████████████████████████████████████████████| 5/5 [00:04<00:00,  1.18it/s]\n",
      "Training iteration: 100%|████████████████████████████████████████████████████████████████████████████████████████████████████████| 5/5 [00:04<00:00,  1.15it/s]\n",
      "Training iteration: 100%|████████████████████████████████████████████████████████████████████████████████████████████████████████| 5/5 [00:04<00:00,  1.15it/s]\n",
      "Training iteration: 100%|████████████████████████████████████████████████████████████████████████████████████████████████████████| 5/5 [00:04<00:00,  1.16it/s]\n",
      "Training iteration: 100%|████████████████████████████████████████████████████████████████████████████████████████████████████████| 5/5 [00:04<00:00,  1.21it/s]\n",
      "Training iteration: 100%|████████████████████████████████████████████████████████████████████████████████████████████████████████| 5/5 [00:04<00:00,  1.16it/s]\n",
      "Training iteration: 100%|████████████████████████████████████████████████████████████████████████████████████████████████████████| 5/5 [00:04<00:00,  1.14it/s]\n",
      "Training iteration: 100%|████████████████████████████████████████████████████████████████████████████████████████████████████████| 5/5 [00:04<00:00,  1.15it/s]\n",
      "Training iteration: 100%|████████████████████████████████████████████████████████████████████████████████████████████████████████| 5/5 [00:04<00:00,  1.17it/s]\n",
      "Training iteration: 100%|████████████████████████████████████████████████████████████████████████████████████████████████████████| 5/5 [00:04<00:00,  1.18it/s]\n",
      "Training iteration: 100%|████████████████████████████████████████████████████████████████████████████████████████████████████████| 5/5 [00:04<00:00,  1.15it/s]\n",
      "Training iteration: 100%|████████████████████████████████████████████████████████████████████████████████████████████████████████| 5/5 [00:04<00:00,  1.15it/s]\n",
      "Training iteration: 100%|████████████████████████████████████████████████████████████████████████████████████████████████████████| 5/5 [00:04<00:00,  1.19it/s]\n",
      "Training iteration: 100%|████████████████████████████████████████████████████████████████████████████████████████████████████████| 5/5 [00:04<00:00,  1.19it/s]\n",
      "Training iteration: 100%|████████████████████████████████████████████████████████████████████████████████████████████████████████| 5/5 [00:04<00:00,  1.18it/s]\n",
      "Training iteration: 100%|████████████████████████████████████████████████████████████████████████████████████████████████████████| 5/5 [00:04<00:00,  1.17it/s]\n",
      "Training iteration: 100%|████████████████████████████████████████████████████████████████████████████████████████████████████████| 5/5 [00:04<00:00,  1.17it/s]\n",
      "Training iteration: 100%|████████████████████████████████████████████████████████████████████████████████████████████████████████| 5/5 [00:04<00:00,  1.18it/s]\n",
      "Training iteration: 100%|████████████████████████████████████████████████████████████████████████████████████████████████████████| 5/5 [00:04<00:00,  1.17it/s]\n",
      "Training iteration: 100%|████████████████████████████████████████████████████████████████████████████████████████████████████████| 5/5 [00:04<00:00,  1.18it/s]\n",
      "Training iteration: 100%|████████████████████████████████████████████████████████████████████████████████████████████████████████| 5/5 [00:04<00:00,  1.18it/s]\n",
      "Training iteration: 100%|████████████████████████████████████████████████████████████████████████████████████████████████████████| 5/5 [00:04<00:00,  1.07it/s]\n"
     ]
    }
   ],
   "source": [
    "parity_model_train, parity_model_validation = calculate_accuracy_for_model(\n",
    "    \"parity_model\", max_iter=150\n",
    ")"
   ]
  },
  {
   "cell_type": "code",
   "execution_count": 10,
   "id": "0bee7442",
   "metadata": {},
   "outputs": [
    {
     "data": {
      "image/png": "[encoded data removed]",
      "text/plain": [
       "<Figure size 1000x500 with 2 Axes>"
      ]
     },
     "metadata": {},
     "output_type": "display_data"
    }
   ],
   "source": [
    "plot_accuracy(\n",
    "    [\"expected_values_model\", \"probabilities_model\", \"parity_model\"],\n",
    "    [exp_val_model_train, prob_model_train, parity_model_train],\n",
    "    [exp_val_model_validation, prob_model_validation, parity_model_validation],\n",
    ")"
   ]
  },
  {
   "cell_type": "code",
   "execution_count": null,
   "id": "1e718ece",
   "metadata": {},
   "outputs": [],
   "source": []
  }
 ],
 "metadata": {
  "kernelspec": {
   "display_name": "Python 3 (ipykernel)",
   "language": "python",
   "name": "python3"
  },
  "language_info": {
   "codemirror_mode": {
    "name": "ipython",
    "version": 3
   },
   "file_extension": ".py",
   "mimetype": "text/x-python",
   "name": "python",
   "nbconvert_exporter": "python",
   "pygments_lexer": "ipython3",
   "version": "3.10.4"
  }
 },
 "nbformat": 4,
 "nbformat_minor": 5
}
